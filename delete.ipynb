{
 "cells": [
  {
   "cell_type": "code",
   "execution_count": 1,
   "metadata": {},
   "outputs": [
    {
     "name": "stdout",
     "output_type": "stream",
     "text": [
      "Output - 1 , 2 , 6 are the numbers (mean of (1, 2, 6) is 3 )\n"
     ]
    }
   ],
   "source": [
    "def find_integers(mean):\n",
    "    for a1 in range(1, 21):\n",
    "        for a2 in range(1, 21):\n",
    "            for a3 in range(1, 21):\n",
    "                if (a1 != a2) and (a1 != a3) and (a2 != a3):\n",
    "                    if (a1 + a2 + a3) / 3 == mean:\n",
    "                        return a1, a2, a3\n",
    "\n",
    "mean_input = int(input(\"Enter the mean value: \"))\n",
    "result = find_integers(mean_input)\n",
    "print(\"Output -\", result[0], \",\", result[1], \",\", result[2], \"are the numbers (mean of\", result, \"is\", mean_input, \")\")\n"
   ]
  },
  {
   "cell_type": "code",
   "execution_count": 2,
   "metadata": {},
   "outputs": [
    {
     "name": "stdout",
     "output_type": "stream",
     "text": [
      "Output - 1 , 2 , 6 are the numbers (mean of (1, 2, 6) is 3 )\n"
     ]
    }
   ],
   "source": [
    "from itertools import combinations\n",
    "\n",
    "def find_integers(mean):\n",
    "    for combo in combinations(range(1, 21), 3):\n",
    "        if sum(combo) / 3 == mean:\n",
    "            return combo\n",
    "\n",
    "mean_input = int(input(\"Enter the mean value: \"))\n",
    "result = find_integers(mean_input)\n",
    "print(\"Output -\", result[0], \",\", result[1], \",\", result[2], \"are the numbers (mean of\", result, \"is\", mean_input, \")\")\n"
   ]
  },
  {
   "cell_type": "code",
   "execution_count": 6,
   "metadata": {},
   "outputs": [
    {
     "name": "stdout",
     "output_type": "stream",
     "text": [
      "Output - 1 , 2 , 6 are the numbers (mean of (1, 2, 6) is 3 )\n"
     ]
    }
   ],
   "source": [
    "def generate_integers():\n",
    "    for a1 in range(1, 21):\n",
    "        for a2 in range(a1 + 1, 21):\n",
    "            for a3 in range(a2 + 1, 21):\n",
    "                yield a1, a2, a3\n",
    "\n",
    "def find_integers(mean):\n",
    "    for a1, a2, a3 in generate_integers():\n",
    "        if (a1 + a2 + a3) / 3 == mean:\n",
    "            return a1, a2, a3\n",
    "\n",
    "mean_input = int(input(\"Enter the mean value: \"))\n",
    "result = find_integers(mean_input)\n",
    "print(\"Output -\", result[0], \",\", result[1], \",\", result[2], \"are the numbers (mean of\", result, \"is\", mean_input, \")\")\n"
   ]
  },
  {
   "cell_type": "code",
   "execution_count": 7,
   "metadata": {},
   "outputs": [
    {
     "name": "stdout",
     "output_type": "stream",
     "text": [
      "Output - 1 , 2 , 6 are the numbers (mean of (1, 2, 6) is 3 )\n"
     ]
    }
   ],
   "source": [
    "def find_integers(mean):\n",
    "    result = [(a1, a2, a3) for a1 in range(1, 21) for a2 in range(a1 + 1, 21) for a3 in range(a2 + 1, 21) if (a1 + a2 + a3) / 3 == mean]\n",
    "    return result[0] if result else None\n",
    "\n",
    "mean_input = int(input(\"Enter the mean value: \"))\n",
    "result = find_integers(mean_input)\n",
    "if result:\n",
    "    print(\"Output -\", result[0], \",\", result[1], \",\", result[2], \"are the numbers (mean of\", result, \"is\", mean_input, \")\")\n",
    "else:\n",
    "    print(\"No such combination found.\")\n"
   ]
  },
  {
   "cell_type": "code",
   "execution_count": 8,
   "metadata": {},
   "outputs": [
    {
     "name": "stdout",
     "output_type": "stream",
     "text": [
      "Output - 4 , 2 , 3 are the numbers (mean of (4, 2, 3) is 3 )\n"
     ]
    }
   ],
   "source": [
    "def find_integers(mean):\n",
    "    a1, a2, a3 = 1, 2, 3\n",
    "    while a3 <= 20:\n",
    "        if (a1 + a2 + a3) / 3 == mean:\n",
    "            return a1, a2, a3\n",
    "        else:\n",
    "            a1 += 1\n",
    "            if a1 == a2:\n",
    "                a1 += 1\n",
    "            if a1 == a3:\n",
    "                a1 += 1\n",
    "            if a2 == a3:\n",
    "                a2 += 1\n",
    "            if a1 > 20:\n",
    "                a1 = 1\n",
    "                a2 += 1\n",
    "            if a2 > 20:\n",
    "                a2 = 1\n",
    "                a3 += 1\n",
    "    return None\n",
    "\n",
    "mean_input = int(input(\"Enter the mean value: \"))\n",
    "result = find_integers(mean_input)\n",
    "if result:\n",
    "    print(\"Output -\", result[0], \",\", result[1], \",\", result[2], \"are the numbers (mean of\", result, \"is\", mean_input, \")\")\n",
    "else:\n",
    "    print(\"No such combination found.\")\n"
   ]
  },
  {
   "cell_type": "code",
   "execution_count": 9,
   "metadata": {},
   "outputs": [
    {
     "name": "stdout",
     "output_type": "stream",
     "text": [
      "Output - 1 , 2 , 6 are the numbers (mean of (1, 2, 6) is 3 )\n"
     ]
    }
   ],
   "source": [
    "def find_integers(mean, a1=1, a2=2, a3=3):\n",
    "    if (a1 + a2 + a3) / 3 == mean:\n",
    "        return a1, a2, a3\n",
    "    else:\n",
    "        if a3 < 20:\n",
    "            return find_integers(mean, a1, a2, a3 + 1)\n",
    "        elif a2 < 19:\n",
    "            return find_integers(mean, a1, a2 + 1, a2 + 2)\n",
    "        elif a1 < 18:\n",
    "            return find_integers(mean, a1 + 1, a1 + 2, a1 + 3)\n",
    "        else:\n",
    "            return None\n",
    "\n",
    "mean_input = int(input(\"Enter the mean value: \"))\n",
    "result = find_integers(mean_input)\n",
    "if result:\n",
    "    print(\"Output -\", result[0], \",\", result[1], \",\", result[2], \"are the numbers (mean of\", result, \"is\", mean_input, \")\")\n",
    "else:\n",
    "    print(\"No such combination found.\")\n"
   ]
  },
  {
   "cell_type": "code",
   "execution_count": 10,
   "metadata": {},
   "outputs": [
    {
     "name": "stdout",
     "output_type": "stream",
     "text": [
      "Output - 4 , 2 , 3 are the numbers (mean of (4, 2, 3) is 3 )\n"
     ]
    }
   ],
   "source": [
    "def find_integers(mean):\n",
    "    a1, a2, a3 = 1, 2, 3\n",
    "    while a3 <= 20:\n",
    "        if (a1 + a2 + a3) / 3 == mean:\n",
    "            return a1, a2, a3\n",
    "        a1 += 1\n",
    "        if a1 == a2:\n",
    "            a1 += 1\n",
    "        if a1 == a3:\n",
    "            a1 += 1\n",
    "        if a2 == a3:\n",
    "            a2 += 1\n",
    "        if a1 > 20:\n",
    "            break\n",
    "        if a2 > 20:\n",
    "            a1 = 1\n",
    "            a2 = 2\n",
    "            a3 += 1\n",
    "    return None\n",
    "\n",
    "mean_input = int(input(\"Enter the mean value: \"))\n",
    "result = find_integers(mean_input)\n",
    "if result:\n",
    "    print(\"Output -\", result[0], \",\", result[1], \",\", result[2], \"are the numbers (mean of\", result, \"is\", mean_input, \")\")\n",
    "else:\n",
    "    print(\"No such combination found.\")\n"
   ]
  },
  {
   "cell_type": "code",
   "execution_count": 12,
   "metadata": {},
   "outputs": [
    {
     "name": "stdout",
     "output_type": "stream",
     "text": [
      "Output - 1 , 2 , 6 are the numbers (mean of (1, 2, 6) is 3 )\n"
     ]
    }
   ],
   "source": [
    "def find_integers(mean):\n",
    "    for a1 in range(1, 20):\n",
    "        for a2 in range(a1 + 1, 20):\n",
    "            a3 = 3 * mean - a1 - a2\n",
    "            if 1 <= a3 <= 20 and a3 != a1 and a3 != a2:\n",
    "                return a1, a2, a3\n",
    "    return None\n",
    "\n",
    "mean_input = int(input(\"Enter the mean value: \"))\n",
    "result = find_integers(mean_input)\n",
    "if result:\n",
    "    print(\"Output -\", result[0], \",\", result[1], \",\", result[2], \"are the numbers (mean of\", result, \"is\", mean_input, \")\")"
   ]
  },
  {
   "cell_type": "code",
   "execution_count": 14,
   "metadata": {},
   "outputs": [],
   "source": [
    "def find_integers_dp(mean):\n",
    "    # Initialize a 3D DP table to store whether the mean is achievable for each combination of integers\n",
    "    # dp[a1][a2][a3] = True if mean is achievable for a1, a2, and a3, otherwise False\n",
    "    dp = [[[False for _ in range(21)] for _ in range(21)] for _ in range(21)]\n",
    "\n",
    "    # Base case: mean of a single integer\n",
    "    for a in range(1, 21):\n",
    "        dp[a][a][a] = True\n",
    "\n",
    "    # Build DP table for all combinations of three integers\n",
    "    for a1 in range(1, 21):\n",
    "        for a2 in range(a1 + 1, 21):\n",
    "            for a3 in range(a2 + 1, 21):\n",
    "                # Calculate the mean\n",
    "                avg = (a1 + a2 + a3) / 3\n",
    "                if avg == mean:\n",
    "                    dp[a1][a2][a3] = True\n",
    "\n",
    "    # Find the first achievable combination and return it\n",
    "    for a1 in range(1, 21):\n",
    "        for a2 in range(a1 + 1, 21):\n",
    "            for a3 in range(a2 + 1, 21):\n",
    "                if dp[a1][a2][a3]:\n",
    "                    return a1, a2, a3\n",
    "\n",
    "    return None\n"
   ]
  },
  {
   "cell_type": "code",
   "execution_count": 15,
   "metadata": {},
   "outputs": [],
   "source": [
    "\n",
    "# Backtracking solution\n",
    "def find_integers_backtracking(mean):\n",
    "    def backtrack(a1, a2, a3, current_sum):\n",
    "        nonlocal result_found\n",
    "        if result_found:\n",
    "            return\n",
    "        if current_sum == mean * 3:\n",
    "            result_found = True\n",
    "            result.append((a1, a2, a3))\n",
    "            return\n",
    "        if a3 < 20:\n",
    "            backtrack(a1, a2, a3 + 1, current_sum + a3 + 1)\n",
    "        if a2 < 19:\n",
    "            backtrack(a1, a2 + 1, a2 + 2, current_sum + a2 + 2)\n",
    "        if a1 < 18:\n",
    "            backtrack(a1 + 1, a1 + 2, a1 + 3, current_sum + a1 + 3)\n",
    "\n",
    "    result = []\n",
    "    result_found = False\n",
    "    backtrack(1, 2, 3, 6)\n",
    "    return result[0] if result else None\n"
   ]
  },
  {
   "cell_type": "code",
   "execution_count": 16,
   "metadata": {},
   "outputs": [],
   "source": [
    "\n",
    "# Branch and Bound solution\n",
    "def find_integers_branch_and_bound(mean):\n",
    "    def calculate_max_sum(a, b, c):\n",
    "        return (a + 20 + 20) / 3\n",
    "\n",
    "    def calculate_min_sum(a, b, c):\n",
    "        return (a + b + c) / 3\n",
    "\n",
    "    def backtrack(a, b, c, current_sum):\n",
    "        nonlocal result_found\n",
    "        if result_found:\n",
    "            return\n",
    "        if current_sum == mean * 3:\n",
    "            result_found = True\n",
    "            result.append((a, b, c))\n",
    "            return\n",
    "        if calculate_min_sum(a, b, c) > mean:\n",
    "            return\n",
    "        if calculate_max_sum(a, b, c) < mean:\n",
    "            return\n",
    "        if c < 20:\n",
    "            backtrack(a, b, c + 1, current_sum + c + 1)\n",
    "        if b < 19:\n",
    "            backtrack(a, b + 1, b + 2, current_sum + b + 2)\n",
    "        if a < 18:\n",
    "            backtrack(a + 1, a + 2, a + 3, current_sum + a + 3)\n",
    "\n",
    "    result = []\n",
    "    result_found = False\n",
    "    backtrack(1, 2, 3, 6)\n",
    "    return result[0] if result else None\n",
    "\n",
    "# Test the functions\n"
   ]
  },
  {
   "cell_type": "markdown",
   "metadata": {},
   "source": []
  }
 ],
 "metadata": {
  "kernelspec": {
   "display_name": "Python 3",
   "language": "python",
   "name": "python3"
  },
  "language_info": {
   "codemirror_mode": {
    "name": "ipython",
    "version": 3
   },
   "file_extension": ".py",
   "mimetype": "text/x-python",
   "name": "python",
   "nbconvert_exporter": "python",
   "pygments_lexer": "ipython3",
   "version": "3.11.0"
  }
 },
 "nbformat": 4,
 "nbformat_minor": 2
}
